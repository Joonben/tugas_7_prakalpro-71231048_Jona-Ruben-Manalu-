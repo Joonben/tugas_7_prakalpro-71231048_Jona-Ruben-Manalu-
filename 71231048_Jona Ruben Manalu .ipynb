{
 "cells": [
  {
   "cell_type": "code",
   "execution_count": 2,
   "id": "99c93e45",
   "metadata": {},
   "outputs": [
    {
     "name": "stdout",
     "output_type": "stream",
     "text": [
      "Masukkan kata pertama: tama\n",
      "Masukkan kata kedua: mata\n",
      "Kedua kata adalah anagram.\n"
     ]
    }
   ],
   "source": [
    "#latihan Mandiri 7.1\n",
    "def apakah_anagram(kata1, kata2):\n",
    "    # Menghapus spasi dan mengonversi ke huruf kecil\n",
    "    kata1 = kata1.replace(\" \", \"\").lower()\n",
    "    kata2 = kata2.replace(\" \", \"\").lower()\n",
    "\n",
    "    # Memeriksa apakah karakter yang diurutkan cocok\n",
    "    return sorted(kata1) == sorted(kata2)\n",
    "\n",
    "# Contoh penggunaan\n",
    "kata1 = input(\"Masukkan kata pertama: \")\n",
    "kata2 = input(\"Masukkan kata kedua: \")\n",
    "\n",
    "if apakah_anagram(kata1, kata2):\n",
    "    print(\"Kedua kata adalah anagram.\")\n",
    "else:\n",
    "    print(\"Kedua kata bukan anagram.\")"
   ]
  },
  {
   "cell_type": "code",
   "execution_count": 1,
   "id": "6720f3d1",
   "metadata": {},
   "outputs": [
    {
     "name": "stdout",
     "output_type": "stream",
     "text": [
      "Masukkan kalimat: Saya mau makan. Makan itu wajib. Mau siang atau malam saya wajib makan\n",
      "\n",
      "Masukkan kata yang ingin dihitung:makan\n",
      "\n",
      "Kata \"Makan\" ada 3 buah\n"
     ]
    }
   ],
   "source": [
    "#latihan mandiri 7.2\n",
    "kalimat = str(input(\"Masukkan kalimat: \"))\n",
    "kalimat_lower = kalimat.lower()\n",
    "kata_dicari = str(input(\"\\nMasukkan kata yang ingin dihitung:\")).lower()\n",
    "jumlah_kemunculan = kalimat_lower.count(kata_dicari)\n",
    "print(f\"\\nKata \\\"{kata_dicari.title()}\\\" ada {jumlah_kemunculan} buah\")"
   ]
  },
  {
   "cell_type": "code",
   "execution_count": 3,
   "id": "1652febe",
   "metadata": {},
   "outputs": [
    {
     "name": "stdout",
     "output_type": "stream",
     "text": [
      "masukan kalimat spasi yang diinginkan dihapus : saya tidak suka memancing    ikan \n",
      "saya tidak suka memancing ikan\n"
     ]
    }
   ],
   "source": [
    "#latihan mandiri 7.3\n",
    "def pemadam(spasi):\n",
    "    spasi = \" \".join(I1.split())\n",
    "    return spasi\n",
    "\n",
    "I1 = input(\"masukan kalimat spasi yang diinginkan dihapus : \")\n",
    "print(pemadam(spasi=\"\"))"
   ]
  },
  {
   "cell_type": "code",
   "execution_count": 1,
   "id": "7554ef33",
   "metadata": {},
   "outputs": [
    {
     "name": "stdout",
     "output_type": "stream",
     "text": [
      "masukan kalimat anda : red snakes and a black frog in the pool\n",
      "kata terpendek :  a\n",
      "kata terpanjang :  snakes\n"
     ]
    }
   ],
   "source": [
    "#Latihan Mandiri\n",
    "def kata(kalimat):\n",
    "    mencari = kalimat.split()\n",
    "    pendek = \"\"\n",
    "    panjang = \"\"\n",
    "    for huruf in range (len(mencari)):\n",
    "        if huruf == 0:\n",
    "            pendek = mencari [0]\n",
    "            panjang = mencari [0]\n",
    "        else:\n",
    "            if len(pendek) > len(mencari[huruf]):\n",
    "                pendek = mencari[huruf]\n",
    "            if len(panjang) < len(mencari[huruf]):\n",
    "                panjang = mencari[huruf]\n",
    "    print(\"kata terpendek : \", pendek)\n",
    "    print(\"kata terpanjang : \", panjang)\n",
    "mkalimat = input(\"masukan kalimat anda : \")\n",
    "\n",
    "kata (mkalimat)"
   ]
  }
 ],
 "metadata": {
  "kernelspec": {
   "display_name": "Python 3 (ipykernel)",
   "language": "python",
   "name": "python3"
  },
  "language_info": {
   "codemirror_mode": {
    "name": "ipython",
    "version": 3
   },
   "file_extension": ".py",
   "mimetype": "text/x-python",
   "name": "python",
   "nbconvert_exporter": "python",
   "pygments_lexer": "ipython3",
   "version": "3.11.5"
  }
 },
 "nbformat": 4,
 "nbformat_minor": 5
}
